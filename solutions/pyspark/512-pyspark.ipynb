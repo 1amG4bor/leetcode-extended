{
 "cells": [
  {
   "cell_type": "markdown",
   "id": "e9407360-4ff2-47d8-8f13-cd144bb8a752",
   "metadata": {
    "collapsed": true,
    "jupyter": {
     "outputs_hidden": true
    }
   },
   "source": [
    "# 511. Game play analysis II.\n",
    "[Problem description](https://leetcode.com/problems/game-play-analysis-ii/description/)"
   ]
  },
  {
   "cell_type": "code",
   "execution_count": 1,
   "id": "dc81406b-148b-44b5-943a-b1ea5c571f25",
   "metadata": {},
   "outputs": [
    {
     "data": {
      "text/plain": [
       "'3.11.9 (tags/v3.11.9:de54cf5, Apr  2 2024, 10:12:12) [MSC v.1938 64 bit (AMD64)]'"
      ]
     },
     "execution_count": 1,
     "metadata": {},
     "output_type": "execute_result"
    }
   ],
   "source": [
    "import sys\n",
    "sys.version"
   ]
  },
  {
   "cell_type": "code",
   "execution_count": 3,
   "id": "128acb11-37c3-4e52-b9fc-2c9f943747ab",
   "metadata": {},
   "outputs": [],
   "source": [
    "import findspark\n",
    "findspark.init()\n",
    "\n",
    "from pyspark.sql import SparkSession\n",
    "spark = SparkSession.builder.master('local[*]')\\\n",
    "    .appName('LeetCode-512-PySpark')\\\n",
    "    .getOrCreate()"
   ]
  },
  {
   "cell_type": "code",
   "execution_count": 4,
   "id": "10de3a73-84a7-48dc-9078-07b9a222124a",
   "metadata": {},
   "outputs": [
    {
     "name": "stdout",
     "output_type": "stream",
     "text": [
      "+---------+---------+------------+----------+\n",
      "|player_id|device_id|games_played|event_date|\n",
      "+---------+---------+------------+----------+\n",
      "|        1|        2|           5|2016-03-01|\n",
      "|        1|        2|           6|2016-05-02|\n",
      "|        2|        3|           1|2017-06-25|\n",
      "|        3|        1|           0|2016-03-02|\n",
      "|        3|        4|           5|2018-07-03|\n",
      "+---------+---------+------------+----------+\n",
      "\n"
     ]
    }
   ],
   "source": [
    "# Data \n",
    "from pyspark.sql.types import StructType, StructField, IntegerType, StringType\n",
    "from pyspark.sql.functions import to_date, col\n",
    "schema = StructType([\n",
    "    StructField('player_id', IntegerType(), False),\n",
    "    StructField('device_id', IntegerType(), False),\n",
    "    StructField('date', StringType(), False),  # later parse to event_date: Date\n",
    "    StructField('games_played', IntegerType(), False),\n",
    "])\n",
    "\n",
    "activity = spark.createDataFrame(\n",
    "    [[1, 2, '2016-03-01', 5], [1, 2, '2016-05-02', 6], [2, 3, '2017-06-25', 1], [3, 1, '2016-03-02', 0], [3, 4, '2018-07-03', 5]],\n",
    "    schema=schema)\n",
    "activity = activity.withColumn('event_date', to_date(col('date'), 'yyyy-MM-dd')).drop('date')\n",
    "activity.show()\n"
   ]
  },
  {
   "cell_type": "markdown",
   "id": "a0e8439e-53ac-4833-a050-7b266ad01bd9",
   "metadata": {},
   "source": [
    "**Write a SQL query that reports the device that is first logged in for each player.**"
   ]
  },
  {
   "cell_type": "code",
   "execution_count": 6,
   "id": "3231e158-6f5a-4926-a5fa-929fa3d46f8a",
   "metadata": {},
   "outputs": [
    {
     "name": "stdout",
     "output_type": "stream",
     "text": [
      "+---------+---------+\n",
      "|player_id|device_id|\n",
      "+---------+---------+\n",
      "|        1|        2|\n",
      "|        2|        3|\n",
      "|        3|        1|\n",
      "+---------+---------+\n",
      "\n"
     ]
    }
   ],
   "source": [
    "# Solution\n",
    "from pyspark.sql import Window\n",
    "from pyspark.sql.functions import first_value, col\n",
    "\n",
    "window = Window.partitionBy('player_id').orderBy('event_date')\n",
    " \n",
    "df = activity.withColumn('is_first_login', col('event_date') == first_value(col('event_date')).over(window))\n",
    "df.filter(df.is_first_login == 'true')\\\n",
    "    .select(col('player_id'), col('device_id'))\\\n",
    "    .show()"
   ]
  }
 ],
 "metadata": {
  "kernelspec": {
   "display_name": "Python 3 (ipykernel)",
   "language": "python",
   "name": "python3"
  },
  "language_info": {
   "codemirror_mode": {
    "name": "ipython",
    "version": 3
   },
   "file_extension": ".py",
   "mimetype": "text/x-python",
   "name": "python",
   "nbconvert_exporter": "python",
   "pygments_lexer": "ipython3",
   "version": "3.11.9"
  }
 },
 "nbformat": 4,
 "nbformat_minor": 5
}
