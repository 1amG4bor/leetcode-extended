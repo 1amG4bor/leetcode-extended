{
 "cells": [
  {
   "cell_type": "markdown",
   "id": "e9407360-4ff2-47d8-8f13-cd144bb8a752",
   "metadata": {
    "collapsed": true,
    "jupyter": {
     "outputs_hidden": true
    }
   },
   "source": [
    "# 176. Second Highest Salary\n",
    "[Problem description](https://leetcode.com/problems/second-highest-salary/description/)"
   ]
  },
  {
   "cell_type": "code",
   "execution_count": 69,
   "id": "d51f8851-63b4-4319-86f5-f56acdda7dd6",
   "metadata": {},
   "outputs": [
    {
     "data": {
      "text/html": [
       "<style>\n",
       "table {float:left}\n",
       "</style>\n"
      ],
      "text/plain": [
       "<IPython.core.display.HTML object>"
      ]
     },
     "metadata": {},
     "output_type": "display_data"
    }
   ],
   "source": [
    "%%html\n",
    "<style>\n",
    "table {float:left}\n",
    "</style>"
   ]
  },
  {
   "cell_type": "code",
   "execution_count": 70,
   "id": "dc81406b-148b-44b5-943a-b1ea5c571f25",
   "metadata": {},
   "outputs": [
    {
     "data": {
      "text/plain": [
       "'3.11.9 (tags/v3.11.9:de54cf5, Apr  2 2024, 10:12:12) [MSC v.1938 64 bit (AMD64)]'"
      ]
     },
     "execution_count": 70,
     "metadata": {},
     "output_type": "execute_result"
    }
   ],
   "source": [
    "import sys\n",
    "sys.version"
   ]
  },
  {
   "cell_type": "code",
   "execution_count": 71,
   "id": "128acb11-37c3-4e52-b9fc-2c9f943747ab",
   "metadata": {},
   "outputs": [],
   "source": [
    "import findspark\n",
    "findspark.init()\n",
    "\n",
    "from pyspark.sql import SparkSession\n",
    "spark = SparkSession.builder.master('local[*]')\\\n",
    "    .appName('LeetCode-176-PySpark')\\\n",
    "    .getOrCreate()"
   ]
  },
  {
   "cell_type": "code",
   "execution_count": 72,
   "id": "10de3a73-84a7-48dc-9078-07b9a222124a",
   "metadata": {},
   "outputs": [
    {
     "name": "stdout",
     "output_type": "stream",
     "text": [
      "+---+------+\n",
      "| id|salary|\n",
      "+---+------+\n",
      "|  1|   100|\n",
      "|  2|   200|\n",
      "|  3|   300|\n",
      "+---+------+\n",
      "\n"
     ]
    }
   ],
   "source": [
    "# Data \n",
    "from pyspark.sql.types import StructType, StructField, IntegerType, StringType\n",
    "employee_schema = StructType([\n",
    "    StructField('id', IntegerType(), False),\n",
    "    StructField('salary', IntegerType(), False),\n",
    "])\n",
    "employee = spark.createDataFrame([[1, 100], [2, 200], [3, 300]], schema=employee_schema)\n",
    "employee.show()\n"
   ]
  },
  {
   "cell_type": "markdown",
   "id": "a0e8439e-53ac-4833-a050-7b266ad01bd9",
   "metadata": {},
   "source": [
    "**Write a solution to find the second highest salary from the Employee table. If there is no second highest salary, return null.**\n",
    "\n",
    "| SecondHighestSalary |\n",
    "|---------------------|\n",
    "| 200                 |"
   ]
  },
  {
   "cell_type": "code",
   "execution_count": 73,
   "id": "3231e158-6f5a-4926-a5fa-929fa3d46f8a",
   "metadata": {},
   "outputs": [
    {
     "name": "stdout",
     "output_type": "stream",
     "text": [
      "+-------------------+\n",
      "|SecondHighestSalary|\n",
      "+-------------------+\n",
      "|                200|\n",
      "+-------------------+\n",
      "\n"
     ]
    }
   ],
   "source": [
    "# Solution\n",
    "from pyspark.sql import Window\n",
    "from pyspark.sql.functions import lit, col, when, nth_value, desc, last_value\n",
    "from pyspark.sql.dataframe import DataFrame\n",
    "\n",
    "def second_highest_salary(employee: DataFrame):\n",
    "    window = Window.orderBy(desc('salary'))\n",
    "    df = employee.select('salary').distinct()\\\n",
    "        .withColumn('SecondHighestSalary', nth_value('salary', 2).over(window))\\\n",
    "        .select(last_value('SecondHighestSalary').alias('SecondHighestSalary'))\n",
    "    return df\n",
    "\n",
    "result = second_highest_salary(employee)\n",
    "result.show()\n"
   ]
  },
  {
   "cell_type": "code",
   "execution_count": 74,
   "id": "1fe16255-38f4-4083-96b6-4be252a77b49",
   "metadata": {},
   "outputs": [
    {
     "name": "stdout",
     "output_type": "stream",
     "text": [
      "1. test:\n",
      "input: [[1, 100], [2, 200], [3, 300]]\n",
      "expected output: 200\n",
      "+-------------------+\n",
      "|SecondHighestSalary|\n",
      "+-------------------+\n",
      "|                200|\n",
      "+-------------------+\n",
      "\n",
      "\n",
      "2. test:\n",
      "input: [[1, 100]]\n",
      "expected output: null\n",
      "+-------------------+\n",
      "|SecondHighestSalary|\n",
      "+-------------------+\n",
      "|               NULL|\n",
      "+-------------------+\n",
      "\n",
      "\n",
      "3. test:\n",
      "input: [[1, 100], [2, 100]]\n",
      "expected output: null\n",
      "+-------------------+\n",
      "|SecondHighestSalary|\n",
      "+-------------------+\n",
      "|               NULL|\n",
      "+-------------------+\n",
      "\n",
      "\n",
      "4. test:\n",
      "input: [[1, 100], [2, 200]]\n",
      "expected output: 100\n",
      "+-------------------+\n",
      "|SecondHighestSalary|\n",
      "+-------------------+\n",
      "|                100|\n",
      "+-------------------+\n",
      "\n",
      "\n"
     ]
    }
   ],
   "source": [
    "test_data = [\n",
    "    [[1, 100], [2, 200], [3, 300]],\n",
    "    [[1, 100]],\n",
    "    [[1, 100], [2, 100]],\n",
    "    [[1, 100], [2, 200]],\n",
    "]\n",
    "test_result = ['200', 'null', 'null', '100',]\n",
    "\n",
    "# Run tests\n",
    "for idx, data in enumerate(zip(test_data, test_result)):\n",
    "    test_input, exp_result = data\n",
    "    print(f'{idx+1}. test:')\n",
    "    print('input:', test_input)\n",
    "    print('expected output:', exp_result)\n",
    "    \n",
    "    employee_data = spark.createDataFrame(test_input, schema=employee_schema)\n",
    "    result = second_highest_salary(employee_data)\n",
    "    result.show()\n",
    "    print()"
   ]
  }
 ],
 "metadata": {
  "kernelspec": {
   "display_name": "Python 3 (ipykernel)",
   "language": "python",
   "name": "python3"
  },
  "language_info": {
   "codemirror_mode": {
    "name": "ipython",
    "version": 3
   },
   "file_extension": ".py",
   "mimetype": "text/x-python",
   "name": "python",
   "nbconvert_exporter": "python",
   "pygments_lexer": "ipython3",
   "version": "3.11.9"
  }
 },
 "nbformat": 4,
 "nbformat_minor": 5
}
