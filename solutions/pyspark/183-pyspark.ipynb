{
 "cells": [
  {
   "cell_type": "markdown",
   "id": "e9407360-4ff2-47d8-8f13-cd144bb8a752",
   "metadata": {
    "collapsed": true,
    "jupyter": {
     "outputs_hidden": true
    }
   },
   "source": [
    "# 183. Customers who never order\n",
    "[Problem description](https://leetcode.com/problems/customers-who-never-order/description/)"
   ]
  },
  {
   "cell_type": "code",
   "execution_count": 1,
   "id": "dc81406b-148b-44b5-943a-b1ea5c571f25",
   "metadata": {},
   "outputs": [
    {
     "data": {
      "text/plain": [
       "'3.11.9 (tags/v3.11.9:de54cf5, Apr  2 2024, 10:12:12) [MSC v.1938 64 bit (AMD64)]'"
      ]
     },
     "execution_count": 1,
     "metadata": {},
     "output_type": "execute_result"
    }
   ],
   "source": [
    "import sys\n",
    "sys.version"
   ]
  },
  {
   "cell_type": "code",
   "execution_count": 2,
   "id": "128acb11-37c3-4e52-b9fc-2c9f943747ab",
   "metadata": {},
   "outputs": [],
   "source": [
    "import findspark\n",
    "findspark.init()\n",
    "\n",
    "from pyspark.sql import SparkSession\n",
    "spark = SparkSession.builder.master('local[*]')\\\n",
    "    .appName('LeetCode-183-PySpark')\\\n",
    "    .getOrCreate()"
   ]
  },
  {
   "cell_type": "code",
   "execution_count": 3,
   "id": "10de3a73-84a7-48dc-9078-07b9a222124a",
   "metadata": {},
   "outputs": [],
   "source": [
    "# Data \n",
    "from pyspark.sql.types import StructType, StructField, IntegerType, StringType\n",
    "customer_schema = StructType([\n",
    "    StructField('id', IntegerType(), False),\n",
    "    StructField('name', StringType(), False),\n",
    "])\n",
    "order_schema = schema1 = StructType([\n",
    "    StructField('id', IntegerType(), False),\n",
    "    StructField('customerId', IntegerType(), False),\n",
    "])\n",
    "\n",
    "customers = spark.createDataFrame([[1, 'Joe'], [2, 'Henry'], [3, 'Sam'], [4, 'Max']], schema=customer_schema)\n",
    "orders = spark.createDataFrame([[1, 3], [2, 1]],  schema=order_schema)"
   ]
  },
  {
   "cell_type": "markdown",
   "id": "a0e8439e-53ac-4833-a050-7b266ad01bd9",
   "metadata": {},
   "source": [
    "**Write a solution to find all customers who never order anything.**"
   ]
  },
  {
   "cell_type": "code",
   "execution_count": 13,
   "id": "3231e158-6f5a-4926-a5fa-929fa3d46f8a",
   "metadata": {},
   "outputs": [
    {
     "name": "stdout",
     "output_type": "stream",
     "text": [
      "+---------+\n",
      "|Customers|\n",
      "+---------+\n",
      "|    Henry|\n",
      "|      Max|\n",
      "+---------+\n",
      "\n"
     ]
    }
   ],
   "source": [
    "# Solution\n",
    "\n",
    "df = customers.join(orders, customers.id == orders.customerId, how='left_outer').select(\n",
    "    customers.id, customers.name.alias('Customers'), orders.id.alias('orderId'))\n",
    "df.filter(df.orderId.isNull()).select('Customers').show()"
   ]
  }
 ],
 "metadata": {
  "kernelspec": {
   "display_name": "Python 3 (ipykernel)",
   "language": "python",
   "name": "python3"
  },
  "language_info": {
   "codemirror_mode": {
    "name": "ipython",
    "version": 3
   },
   "file_extension": ".py",
   "mimetype": "text/x-python",
   "name": "python",
   "nbconvert_exporter": "python",
   "pygments_lexer": "ipython3",
   "version": "3.11.9"
  }
 },
 "nbformat": 4,
 "nbformat_minor": 5
}
