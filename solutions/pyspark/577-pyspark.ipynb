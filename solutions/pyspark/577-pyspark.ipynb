{
 "cells": [
  {
   "cell_type": "markdown",
   "id": "e9407360-4ff2-47d8-8f13-cd144bb8a752",
   "metadata": {
    "collapsed": true,
    "jupyter": {
     "outputs_hidden": true
    }
   },
   "source": [
    "# 577. Employee bonus\n",
    "[Problem description](https://leetcode.com/problems/employee-bonus/description/)"
   ]
  },
  {
   "cell_type": "code",
   "execution_count": 10,
   "id": "d51f8851-63b4-4319-86f5-f56acdda7dd6",
   "metadata": {},
   "outputs": [
    {
     "data": {
      "text/html": [
       "<style>\n",
       "table {float:left}\n",
       "</style>\n"
      ],
      "text/plain": [
       "<IPython.core.display.HTML object>"
      ]
     },
     "metadata": {},
     "output_type": "display_data"
    }
   ],
   "source": [
    "%%html\n",
    "<style>\n",
    "table {float:left}\n",
    "</style>"
   ]
  },
  {
   "cell_type": "code",
   "execution_count": 11,
   "id": "dc81406b-148b-44b5-943a-b1ea5c571f25",
   "metadata": {},
   "outputs": [
    {
     "data": {
      "text/plain": [
       "'3.11.9 (tags/v3.11.9:de54cf5, Apr  2 2024, 10:12:12) [MSC v.1938 64 bit (AMD64)]'"
      ]
     },
     "execution_count": 11,
     "metadata": {},
     "output_type": "execute_result"
    }
   ],
   "source": [
    "import sys\n",
    "sys.version"
   ]
  },
  {
   "cell_type": "code",
   "execution_count": 2,
   "id": "128acb11-37c3-4e52-b9fc-2c9f943747ab",
   "metadata": {},
   "outputs": [],
   "source": [
    "import findspark\n",
    "findspark.init()\n",
    "\n",
    "from pyspark.sql import SparkSession\n",
    "spark = SparkSession.builder.master('local[*]')\\\n",
    "    .appName('LeetCode-577-PySpark')\\\n",
    "    .getOrCreate()"
   ]
  },
  {
   "cell_type": "code",
   "execution_count": 3,
   "id": "10de3a73-84a7-48dc-9078-07b9a222124a",
   "metadata": {},
   "outputs": [
    {
     "name": "stdout",
     "output_type": "stream",
     "text": [
      "+-----+------+----------+------+\n",
      "|empId|  name|supervisor|salary|\n",
      "+-----+------+----------+------+\n",
      "|    3|  Brad|      NULL|  4000|\n",
      "|    1|  John|         3|  1000|\n",
      "|    2|   Dan|         3|  2000|\n",
      "|    4|Thomas|         3|  4000|\n",
      "+-----+------+----------+------+\n",
      "\n"
     ]
    }
   ],
   "source": [
    "# Data \n",
    "from pyspark.sql.types import StructType, StructField, IntegerType, StringType\n",
    "employee_schema = StructType([\n",
    "    StructField('empId', IntegerType(), False),\n",
    "    StructField('name', StringType(), False),\n",
    "    StructField('supervisor', IntegerType(), True),\n",
    "    StructField('salary', IntegerType(), False),\n",
    "])\n",
    "employee = spark.createDataFrame(\n",
    "    [[3, 'Brad', None, 4000], [1, 'John', 3, 1000], [2, 'Dan', 3, 2000], [4, 'Thomas', 3, 4000]],\n",
    "    schema=employee_schema)\n",
    "employee.show()\n"
   ]
  },
  {
   "cell_type": "code",
   "execution_count": 47,
   "id": "458c7c2a-33b1-4a92-8ecf-42aa7f516765",
   "metadata": {},
   "outputs": [
    {
     "name": "stdout",
     "output_type": "stream",
     "text": [
      "+-----+-----+\n",
      "|empId|bonus|\n",
      "+-----+-----+\n",
      "|    2|  500|\n",
      "|    4| 2000|\n",
      "+-----+-----+\n",
      "\n"
     ]
    }
   ],
   "source": [
    "bonus_schema = StructType([\n",
    "    StructField('empId', IntegerType(), False),\n",
    "    StructField('bonus', IntegerType(), False),\n",
    "])\n",
    "bonus = spark.createDataFrame([[2, 500], [4, 2000]], schema=bonus_schema)\n",
    "bonus.show()"
   ]
  },
  {
   "cell_type": "markdown",
   "id": "a0e8439e-53ac-4833-a050-7b266ad01bd9",
   "metadata": {},
   "source": [
    "**Write a solution to report the name and bonus amount of each employee with a bonus less than 1000.**\n",
    "\n",
    "| name | bonus |\n",
    "|------|-------|\n",
    "| Brad | null  |\n",
    "| John | null  |\n",
    "| Dan  | 500   |"
   ]
  },
  {
   "cell_type": "code",
   "execution_count": 50,
   "id": "3231e158-6f5a-4926-a5fa-929fa3d46f8a",
   "metadata": {},
   "outputs": [
    {
     "name": "stdout",
     "output_type": "stream",
     "text": [
      "+----+-----+\n",
      "|name|bonus|\n",
      "+----+-----+\n",
      "|Brad| NULL|\n",
      "|John| NULL|\n",
      "| Dan|  500|\n",
      "+----+-----+\n",
      "\n"
     ]
    }
   ],
   "source": [
    "# Solution\n",
    "from pyspark.sql.functions import lit, col, when\n",
    "\n",
    "df = employee.join(bonus, employee.empId == bonus.empId, how='left_outer')\\\n",
    "    .drop('empId', 'salary', 'supervisor')\\\n",
    "    .filter((col('bonus').isNull()) | (col('bonus') < 1000))\\\n",
    "    .show()\n"
   ]
  }
 ],
 "metadata": {
  "kernelspec": {
   "display_name": "Python 3 (ipykernel)",
   "language": "python",
   "name": "python3"
  },
  "language_info": {
   "codemirror_mode": {
    "name": "ipython",
    "version": 3
   },
   "file_extension": ".py",
   "mimetype": "text/x-python",
   "name": "python",
   "nbconvert_exporter": "python",
   "pygments_lexer": "ipython3",
   "version": "3.11.9"
  }
 },
 "nbformat": 4,
 "nbformat_minor": 5
}
