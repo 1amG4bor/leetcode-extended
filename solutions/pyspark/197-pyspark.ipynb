{
 "cells": [
  {
   "cell_type": "markdown",
   "id": "e9407360-4ff2-47d8-8f13-cd144bb8a752",
   "metadata": {
    "collapsed": true,
    "jupyter": {
     "outputs_hidden": true
    }
   },
   "source": [
    "# 197. Rising temperature\n",
    "[Problem description](https://leetcode.com/problems/rising-temperature/description/)"
   ]
  },
  {
   "cell_type": "code",
   "execution_count": 1,
   "id": "dc81406b-148b-44b5-943a-b1ea5c571f25",
   "metadata": {},
   "outputs": [
    {
     "data": {
      "text/plain": [
       "'3.11.9 (tags/v3.11.9:de54cf5, Apr  2 2024, 10:12:12) [MSC v.1938 64 bit (AMD64)]'"
      ]
     },
     "execution_count": 1,
     "metadata": {},
     "output_type": "execute_result"
    }
   ],
   "source": [
    "import sys\n",
    "sys.version"
   ]
  },
  {
   "cell_type": "code",
   "execution_count": 2,
   "id": "128acb11-37c3-4e52-b9fc-2c9f943747ab",
   "metadata": {},
   "outputs": [],
   "source": [
    "import findspark\n",
    "findspark.init()\n",
    "\n",
    "from pyspark.sql import SparkSession\n",
    "spark = SparkSession.builder.master('local[*]')\\\n",
    "    .appName('LeetCode-197-PySpark')\\\n",
    "    .getOrCreate()"
   ]
  },
  {
   "cell_type": "code",
   "execution_count": 10,
   "id": "10de3a73-84a7-48dc-9078-07b9a222124a",
   "metadata": {},
   "outputs": [
    {
     "name": "stdout",
     "output_type": "stream",
     "text": [
      "+---+-----------+----------+\n",
      "| id|temperature|recordDate|\n",
      "+---+-----------+----------+\n",
      "|  1|         10|2015-01-01|\n",
      "|  2|         25|2015-01-02|\n",
      "|  3|         20|2015-01-03|\n",
      "|  4|         30|2015-01-04|\n",
      "+---+-----------+----------+\n",
      "\n"
     ]
    }
   ],
   "source": [
    "# Data \n",
    "from pyspark.sql.types import StructType, StructField, IntegerType, StringType\n",
    "from pyspark.sql.functions import to_date, col\n",
    "schema = StructType([\n",
    "    StructField('id', IntegerType(), False),\n",
    "    StructField('date', StringType(), False), # later parse to recordDate: Date\n",
    "    StructField('temperature', IntegerType(), False),\n",
    "])\n",
    "\n",
    "weather = spark.createDataFrame([[1, '2015-01-01', 10], [2, '2015-01-02', 25], [3, '2015-01-03', 20], [4, '2015-01-04', 30]], schema=schema)\n",
    "weather = weather.withColumn('recordDate', to_date(col('date'), 'yyyy-MM-dd')).drop('date')\n",
    "weather.show()"
   ]
  },
  {
   "cell_type": "markdown",
   "id": "a0e8439e-53ac-4833-a050-7b266ad01bd9",
   "metadata": {},
   "source": [
    "**Write a solution to find all dates' Id with higher temperatures compared to its previous dates (yesterday).**"
   ]
  },
  {
   "cell_type": "code",
   "execution_count": 25,
   "id": "3231e158-6f5a-4926-a5fa-929fa3d46f8a",
   "metadata": {},
   "outputs": [
    {
     "name": "stdout",
     "output_type": "stream",
     "text": [
      "+---+\n",
      "| id|\n",
      "+---+\n",
      "|  2|\n",
      "|  4|\n",
      "+---+\n",
      "\n"
     ]
    }
   ],
   "source": [
    "# Solution\n",
    "from pyspark.sql import Window\n",
    "from pyspark.sql.functions import lag, col, lit\n",
    "\n",
    "df = weather.withColumn('group', lit(1))\n",
    "window = Window.partitionBy('group').orderBy('id')\n",
    "\n",
    "df = df.withColumn('rising', col('temperature') > lag(col('temperature')).over(window)).drop('group')\n",
    "df.filter(df.rising == 'true').drop('temperature', 'recordDate', 'rising').show()"
   ]
  }
 ],
 "metadata": {
  "kernelspec": {
   "display_name": "Python 3 (ipykernel)",
   "language": "python",
   "name": "python3"
  },
  "language_info": {
   "codemirror_mode": {
    "name": "ipython",
    "version": 3
   },
   "file_extension": ".py",
   "mimetype": "text/x-python",
   "name": "python",
   "nbconvert_exporter": "python",
   "pygments_lexer": "ipython3",
   "version": "3.11.9"
  }
 },
 "nbformat": 4,
 "nbformat_minor": 5
}
